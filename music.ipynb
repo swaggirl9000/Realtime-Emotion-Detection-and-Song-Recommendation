{
 "cells": [
  {
   "cell_type": "code",
   "execution_count": 9,
   "metadata": {},
   "outputs": [],
   "source": [
    "import numpy as np\n",
    "import pandas as pd\n",
    "import random"
   ]
  },
  {
   "cell_type": "code",
   "execution_count": 2,
   "metadata": {},
   "outputs": [
    {
     "data": {
      "text/html": [
       "<div>\n",
       "<style scoped>\n",
       "    .dataframe tbody tr th:only-of-type {\n",
       "        vertical-align: middle;\n",
       "    }\n",
       "\n",
       "    .dataframe tbody tr th {\n",
       "        vertical-align: top;\n",
       "    }\n",
       "\n",
       "    .dataframe thead th {\n",
       "        text-align: right;\n",
       "    }\n",
       "</style>\n",
       "<table border=\"1\" class=\"dataframe\">\n",
       "  <thead>\n",
       "    <tr style=\"text-align: right;\">\n",
       "      <th></th>\n",
       "      <th>name</th>\n",
       "      <th>artist</th>\n",
       "      <th>mood</th>\n",
       "      <th>popularity</th>\n",
       "    </tr>\n",
       "  </thead>\n",
       "  <tbody>\n",
       "    <tr>\n",
       "      <th>0</th>\n",
       "      <td>1999</td>\n",
       "      <td>Prince</td>\n",
       "      <td>Happy</td>\n",
       "      <td>68</td>\n",
       "    </tr>\n",
       "    <tr>\n",
       "      <th>1</th>\n",
       "      <td>23</td>\n",
       "      <td>Blonde Redhead</td>\n",
       "      <td>Sad</td>\n",
       "      <td>43</td>\n",
       "    </tr>\n",
       "    <tr>\n",
       "      <th>2</th>\n",
       "      <td>9 Crimes</td>\n",
       "      <td>Damien Rice</td>\n",
       "      <td>Sad</td>\n",
       "      <td>60</td>\n",
       "    </tr>\n",
       "    <tr>\n",
       "      <th>3</th>\n",
       "      <td>99 Luftballons</td>\n",
       "      <td>Nena</td>\n",
       "      <td>Happy</td>\n",
       "      <td>2</td>\n",
       "    </tr>\n",
       "    <tr>\n",
       "      <th>4</th>\n",
       "      <td>A Boy Brushed Red Living In Black And White</td>\n",
       "      <td>Underoath</td>\n",
       "      <td>Energetic</td>\n",
       "      <td>60</td>\n",
       "    </tr>\n",
       "  </tbody>\n",
       "</table>\n",
       "</div>"
      ],
      "text/plain": [
       "                                          name          artist       mood  \\\n",
       "0                                         1999          Prince      Happy   \n",
       "1                                           23  Blonde Redhead        Sad   \n",
       "2                                     9 Crimes     Damien Rice        Sad   \n",
       "3                               99 Luftballons            Nena      Happy   \n",
       "4  A Boy Brushed Red Living In Black And White       Underoath  Energetic   \n",
       "\n",
       "   popularity  \n",
       "0          68  \n",
       "1          43  \n",
       "2          60  \n",
       "3           2  \n",
       "4          60  "
      ]
     },
     "execution_count": 2,
     "metadata": {},
     "output_type": "execute_result"
    }
   ],
   "source": [
    "music_stats = pd.read_csv(\"/Users/ada/Desktop/archive/data_moods.csv\")\n",
    "music_stats = music_stats[['name','artist','mood','popularity']]\n",
    "music_stats.head()"
   ]
  },
  {
   "cell_type": "code",
   "execution_count": 3,
   "metadata": {},
   "outputs": [
    {
     "data": {
      "text/plain": [
       "Sad          197\n",
       "Calm         195\n",
       "Energetic    154\n",
       "Happy        140\n",
       "Name: mood, dtype: int64"
      ]
     },
     "execution_count": 3,
     "metadata": {},
     "output_type": "execute_result"
    }
   ],
   "source": [
    "music_stats[\"mood\"].value_counts()"
   ]
  },
  {
   "cell_type": "code",
   "execution_count": 4,
   "metadata": {},
   "outputs": [
    {
     "data": {
      "text/html": [
       "<div>\n",
       "<style scoped>\n",
       "    .dataframe tbody tr th:only-of-type {\n",
       "        vertical-align: middle;\n",
       "    }\n",
       "\n",
       "    .dataframe tbody tr th {\n",
       "        vertical-align: top;\n",
       "    }\n",
       "\n",
       "    .dataframe thead th {\n",
       "        text-align: right;\n",
       "    }\n",
       "</style>\n",
       "<table border=\"1\" class=\"dataframe\">\n",
       "  <thead>\n",
       "    <tr style=\"text-align: right;\">\n",
       "      <th></th>\n",
       "      <th>name</th>\n",
       "      <th>artist</th>\n",
       "      <th>mood</th>\n",
       "      <th>popularity</th>\n",
       "    </tr>\n",
       "  </thead>\n",
       "  <tbody>\n",
       "    <tr>\n",
       "      <th>91</th>\n",
       "      <td>Chop Suey!</td>\n",
       "      <td>System Of A Down</td>\n",
       "      <td>Energetic</td>\n",
       "      <td>79</td>\n",
       "    </tr>\n",
       "    <tr>\n",
       "      <th>289</th>\n",
       "      <td>Killing In The Name</td>\n",
       "      <td>Rage Against The Machine</td>\n",
       "      <td>Energetic</td>\n",
       "      <td>78</td>\n",
       "    </tr>\n",
       "    <tr>\n",
       "      <th>129</th>\n",
       "      <td>Dani California</td>\n",
       "      <td>Red Hot Chili Peppers</td>\n",
       "      <td>Energetic</td>\n",
       "      <td>77</td>\n",
       "    </tr>\n",
       "    <tr>\n",
       "      <th>154</th>\n",
       "      <td>Duality</td>\n",
       "      <td>Slipknot</td>\n",
       "      <td>Energetic</td>\n",
       "      <td>76</td>\n",
       "    </tr>\n",
       "    <tr>\n",
       "      <th>600</th>\n",
       "      <td>Uprising</td>\n",
       "      <td>Muse</td>\n",
       "      <td>Energetic</td>\n",
       "      <td>75</td>\n",
       "    </tr>\n",
       "  </tbody>\n",
       "</table>\n",
       "</div>"
      ],
      "text/plain": [
       "                    name                    artist       mood  popularity\n",
       "91            Chop Suey!          System Of A Down  Energetic          79\n",
       "289  Killing In The Name  Rage Against The Machine  Energetic          78\n",
       "129      Dani California     Red Hot Chili Peppers  Energetic          77\n",
       "154              Duality                  Slipknot  Energetic          76\n",
       "600             Uprising                      Muse  Energetic          75"
      ]
     },
     "execution_count": 4,
     "metadata": {},
     "output_type": "execute_result"
    }
   ],
   "source": [
    "stats = music_stats[music_stats[\"mood\"] == \"Energetic\"]\n",
    "stats = stats.sort_values(by=\"popularity\", ascending=False)\n",
    "stats.head()"
   ]
  },
  {
   "cell_type": "code",
   "execution_count": 16,
   "metadata": {},
   "outputs": [
    {
     "data": {
      "text/plain": [
       "'Wish You Were Here - 2011 Remastered Version'"
      ]
     },
     "execution_count": 16,
     "metadata": {},
     "output_type": "execute_result"
    }
   ],
   "source": [
    "stats = music_stats[music_stats[\"mood\"] == \"Sad\"]\n",
    "stats = stats.sort_values(by=\"popularity\", ascending=False)\n",
    "s = np.random.choice(stats[\"name\"])\n",
    "s\n"
   ]
  },
  {
   "cell_type": "code",
   "execution_count": 17,
   "metadata": {},
   "outputs": [],
   "source": [
    "def recommend(prediction):\n",
    "    if(prediction == \"Happy\" or prediction == \"Sad\"):\n",
    "        song = music_stats[music_stats[\"mood\"] == \"Happy\"]\n",
    "        song = np.random.choice(song[\"name\"])\n",
    "        return(song)\n",
    "    \n",
    "    if(prediction == \"Fear\" or prediction == \"Angry\"):\n",
    "        song = music_stats[music_stats[\"mood\"] == \"Calm\"]\n",
    "        song = np.random.choice(song[\"name\"])\n",
    "        return(song)\n",
    "    if(prediction == \"Disgust\"):\n",
    "        song = music_stats[music_stats[\"mood\"] == \"Sad\"]\n",
    "        song = np.random.choice(song[\"name\"])\n",
    "        return(song)\n",
    "\n",
    "    if(prediction == \"Surprise\" or prediction == \"Neutral\"):\n",
    "        song = music_stats[music_stats[\"mood\"] == \"Energetic\"]\n",
    "        song = np.random.choice(song[\"name\"])\n",
    "        return(song)"
   ]
  }
 ],
 "metadata": {
  "kernelspec": {
   "display_name": "Python 3",
   "language": "python",
   "name": "python3"
  },
  "language_info": {
   "codemirror_mode": {
    "name": "ipython",
    "version": 3
   },
   "file_extension": ".py",
   "mimetype": "text/x-python",
   "name": "python",
   "nbconvert_exporter": "python",
   "pygments_lexer": "ipython3",
   "version": "3.9.13"
  },
  "orig_nbformat": 4,
  "vscode": {
   "interpreter": {
    "hash": "aee8b7b246df8f9039afb4144a1f6fd8d2ca17a180786b69acc140d282b71a49"
   }
  }
 },
 "nbformat": 4,
 "nbformat_minor": 2
}
